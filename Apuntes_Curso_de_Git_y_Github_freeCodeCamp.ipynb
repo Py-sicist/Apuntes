{
  "nbformat": 4,
  "nbformat_minor": 0,
  "metadata": {
    "colab": {
      "provenance": [],
      "authorship_tag": "ABX9TyNXOlr/GgOpszpPmVjhtNbk",
      "include_colab_link": true
    },
    "kernelspec": {
      "name": "python3",
      "display_name": "Python 3"
    },
    "language_info": {
      "name": "python"
    }
  },
  "cells": [
    {
      "cell_type": "markdown",
      "metadata": {
        "id": "view-in-github",
        "colab_type": "text"
      },
      "source": [
        "<a href=\"https://colab.research.google.com/github/Py-sicist/Apuntes/blob/main/Apuntes_Curso_de_Git_y_Github_freeCodeCamp.ipynb\" target=\"_parent\"><img src=\"https://colab.research.google.com/assets/colab-badge.svg\" alt=\"Open In Colab\"/></a>"
      ]
    },
    {
      "cell_type": "markdown",
      "source": [
        "# Curso de Git & Github por Estefanía de freeCodeCamp\n",
        "\n",
        "\n",
        "## Introducción\n",
        "Git y Github son herramientas de control de versiones ampliamente usadas, permiten registrar los cambios que realizamos en un proyecto, crear varias versiones y trabajar de manera colaborativa y remota en ellos.\n",
        "\n",
        "Los conceptos que abarca este curso son:\n",
        "* Control de Versiones.\n",
        "* Repositorios.\n",
        "* Commits."
      ],
      "metadata": {
        "id": "W14O2NkESWez"
      }
    },
    {
      "cell_type": "markdown",
      "source": [
        "### Git\n",
        "\n",
        "Git nos permite trabajar control de versiones desde nuestro computador, lo trabajaremos usando Git Bash que es una línea de comandos (CLI: Command Line Interface) por la que ejecutamos los comandos de Git.\n",
        "\n",
        "#### ¿Qué es Git?\n",
        "Es un sistema de control de versiones que nos permite rastrear los cambios que hemos hecho en un conjunto de archivos, en esencia esto es un proyecto, un conjunto de archivos.\n",
        "Una función muy importante de Git es la posibilidad de crear _ramas_, estas son: versiones paralelas de un proyecto, usarlas nos permite trabajar en los archivos de un proyecto \"_en vivo_\" sin afectarlo, pudiendo quizás dañar el trabajo de otras personas que estén haciendo desarrollos sobre él. Estas dos versiones, las dos ramas, se pueden combinar mediante un proceso llamado \"_merge_\" obteniendo como resultado la rama principal pero con los cambios añadidos en la rama alternativa que creamos para editarla.\n",
        "\n",
        "Git funciona completamente de forma local, al instalar git y crear repositorios estos existen únicamente en nuestra computadora. En caso de trabajar con otros desarrolladores esta es una limitación y para ello existe Github..."
      ],
      "metadata": {
        "id": "u_aTKXFxSazN"
      }
    },
    {
      "cell_type": "markdown",
      "source": [
        "#### ¿Qué es Github?\n",
        "Github es una plataforma que nos permite trabajar en equipo para el desarrollo de software usando repositorios, en este caso remotos. Su función principal es la de alojar repositorios, de esta manera eliminamos el problema de la situación anterior, cada desarrollador tiene una copia local de la versión original guardada en los servidores de Github, así es posible que todos los miembros del equipo descarguen la versión más actualizada así como pueden enviar sus cambios al repositorio remoto.\n",
        "\n",
        "Una definición más formal de Github sería: \"_Un servicio de hosting que nos permite almacenar proyectos de desarrollo de software y control de versiones usando git_\""
      ],
      "metadata": {
        "id": "nZ34wAfwSnCk"
      }
    },
    {
      "cell_type": "markdown",
      "source": [
        "### Conceptos básicos de Git\n",
        "\n",
        "_Control de versiones_: Es un sistema encargado de administrar los cambios realizados en software de computadora o un conjunto de archivos. En inglés se llama \"_Version Control_\".\n",
        "\n",
        "_Repositorio_: Es una colección de archivos de diferentes versiones de un proyecto. En inglés se llama \"_Repository_\". Un repositorio puede ser local o remoto, para que otras personas tengan acceso al repositorio o por razones de seguridad es posible almacenarlo en la nube, es posible crear una copia local de un repositorio remoto así como enviar un repositorio local a la nube para almacenar una copia allí.\n",
        "\n",
        "_Commit_: Un commit es un cambio realizado sobre un proyecto, en la línea del tiempo de este se puede entender como un hito, identificado con un código _hash_, así se señala un cambio en un momento específico. Un commit va acompañado de un mensaje corto para indicar qué cambio principal se hizo en el proyecto.\n",
        "\n",
        "_Git Bash_: Es una herramienta que permite ejecutar comandos de Git, en otras palabras es una línea de comandos."
      ],
      "metadata": {
        "id": "iw6a46LiSpP3"
      }
    },
    {
      "cell_type": "markdown",
      "source": [
        "### Comandos en Git Bash"
      ],
      "metadata": {
        "id": "aG1Qs3pVSq-3"
      }
    },
    {
      "cell_type": "markdown",
      "source": [
        "### Comandos Generales\n",
        "Abriendo la aplicación de Git Bash vemos una ventana de línea de comando con los siguientes símbolos:\n",
        "* <font color=\"ForestGreen\">***~***</font>: Este símbolo nos indica que estamos en el directorio principal de nuestro sistema de archivos.\n",
        "* <font color=\"ForestGreen\">***$***</font>: Nos indica que estamos listos para introducir un comando de git.\n",
        "\n",
        "Por lo general no deseamos trabajar en el directorio principal sino en una carpeta donde se alberga nuestro repositorio, para esto debemos usar los comandos de git para navegar hasta la ubicación deseada, crear, modificar o eliminar repositorios o archivos, \"jalarlos\" desde Github y \"empujárlos\" nuestros commits a Github.\n",
        "\n",
        "* <font color=\"ForestGreen\">***cd***</font>: Este comando significa _Change Directory_ y nos permite cambiar el directorio en el que nos encontramos.\n",
        "    > Supongamos que deseamos ir a la carpeta Documentos, el comando se usa de la siguiente manera: \"cd Documents\".\n",
        "    >\n",
        "    > Es importante tener en cuenta que el nombre de la carpeta debe estar bien escrito, esto para que git lo reconozca y en caso que el nombre de nuestra carpeta contenga espacios, más de una palabra, etc, debemos escribir el nombre entre comillas: cd \"_Nombre Carpeta_\"\n",
        "    >\n",
        "    > Usar el comando \"cd ..\" nos lleva un paso atrás en la dirección del directorio.\n",
        "    >\n",
        "    > Para volver al directorio raíz podemos usar simplemente el comando \"cd\".\n",
        "\n",
        "* <font color=\"ForestGreen\">***ls***</font>: Nos permite ver todo el contenido de un directorio.\n",
        "\n",
        "* <font color=\"ForestGreen\">***mkdir***</font>: Este comando crea una carpeta nueva dentro de la dirección en la que nos encontremos en la línea de comando.\n",
        "\n",
        "    Su sintaxis es: mkdir NombreCarpeta o mkdir \"Nombre Carpeta\" para los nombres que contengan espacios.\n",
        "\n",
        "* <font color=\"ForestGreen\">***rmdir***</font>: Este comando elimina la carpeta que deseemos.\n",
        "\n",
        "    Su sintaxis es: rmdir NombreCarpeta o rmdir \"Nombre Carpeta\" para los nombres que contengan espacios.\n",
        "\n",
        "* <font color=\"ForestGreen\">***clear***</font>: Permite limpiar la línea de comandos para que no aparezcan todos los resultados anteriores."
      ],
      "metadata": {
        "id": "x6jyAOTeStL0"
      }
    },
    {
      "cell_type": "markdown",
      "source": [
        "### Configurar Usuario y Correo\n",
        "\n",
        "Es importante configurar los datos de correo y usuario debido a que en la línea del tiempo de un proyecto los hitos o marcaciones de cambios que se realicen van a llevar la firma de alguien, una persona que envió un _commit_, así, es importante que sepamos quién realizó qué cambio. Para registrar nuestro usuario y nuestro correo usaremos los siguientes comandos:\n",
        "\n",
        "* <font color=\"ForestGreen\">***git config --global user.name \"NombreDeUsuario\"***</font>: De esta manera configuramos nuestro nombre de usuario para todos los repositorios, es decir, de manera global. Si deseamos ver el usuario podemos escribir en la línea de comandos <font color=\"FireBrick\">_git config user.name_</font>\\.\n",
        "* <font color=\"ForestGreen\">***git config --global user.name \"CorreoDeUsuario\"***</font>: De esta manera configuramos nuestro correo electrónico para todos los repositorios, es decir, de manera global. Si deseamos ver el correo electrónico que usamos podemos escribir en la línea de comandos <font color=\"FireBrick\">_git config user.name_</font>.\n",
        "\n",
        ">En caso de querer realizar una configuración para todos los repositorios incluímos la palabra _global_, de lo contrario podemos omitirla si deseamos hacer únicamente para un repositorio específico.\n"
      ],
      "metadata": {
        "id": "bYrSQhfuSvol"
      }
    },
    {
      "cell_type": "markdown",
      "source": [
        "### Crea un repositorio\n",
        "Crear un repositorio es una habilidd de suma importancia en Git, para empezar crearemos uno de forma local y luego crearemos uno remoto. Para empezar crearemos una carpeta y el nombre, así lleve más de una palabra, como por ejemplo: \"Curso Git\", lo escribiremos sólo en minúsculas y separando las palabras por guión (-), así: \"curso-git\".\n",
        "\n",
        "Primero crearemos la carpeta con el comando _ mkdir_ , luego entraremos a la carpeta con el comando _cd nombre-carpeta_ y usaremos los siguientes comandos:\n",
        "\n",
        "* <font color=\"ForestGreen\">***git init***</font>: Con esta línea de comando _\"inicializamos\"_ un repositorio vacío de git dentro de la carpeta \"curso-git\" y a partir de aquí podremos rastrear los cambios y las versiones que se le hagan a los archivos contenidos en ella, en otras palabras convertimos la carpeta en un repositorio\\.\n",
        "\n",
        "    >Al usar este comando veremos en la terminal el siguiente mensaje: _Initialized empty Git repository in C:Users/... (es la dirección del repositorio)_."
      ],
      "metadata": {
        "id": "QoBe_7AnSybf"
      }
    },
    {
      "cell_type": "markdown",
      "source": [
        "### Las tres áreas en Git\n",
        "Ahora hablaremos de las tres áreas en las que puede encontrarse un archivo en Git, cada área representa una etapa diferente en la que se puede encontrar nuestro archivo, hablamos de etapas porque son los momentos en los que dividimos el proceso de llevar un archivo original hasta el repositorio.\n",
        "\n",
        "Cuando trabajamos con Git las áreas en las que trabajamos son: _Directorio de Trabajo_, _Área de Preparación_ y _Repositorio (directorio .git)_. Veamos cada una.\n",
        "\n",
        "* <font color=\"SteelBlue\">***Directorio de Trabajo***</font>: Esta es la carpeta del proyecto que contiene los archivos y el directorio .git del repositorio. Es una carpeta como la conocemos normalmente en Windows, es la carpeta que contiene todos los archivos y el directorio (escondido) que es el .git. En inglés lo conocemos como: _Working directory_.\n",
        "\n",
        "* <font color=\"SteelBlue\">***Área de Preparación***</font>: Esta área la componen el conjunto de archivos y cambios que serán incluidos en el próximo commit, esta etapa intermedia nos permite retirar cambios de los que no estemos seguros de enviar, es decir, de enviar un commit al repositorio. Es importante porque así podemos descartar cambios que consideremos innecesarios o perjudiciales para el proyecto y que no lleguen al repositorio. En inglés se llama _Staging area_.\n",
        "\n",
        "* <font color=\"SteelBlue\">***Repositorio***</font>: Ya sabemos que el repositorio es el conjunto de archivos de un proyecto, aquí te ofrezco ampliar esa definición llamándolo también el directorio que contiene los metadatos y las versiones de un proyecto. Cada commit, cada rama, cada versión están contenidas en este repositorio oculto y es la parte que copiamos cuando clonamos un repositorio en nuestra computadora. Según la documentación oficial de Git es la parte más importante de Git.\n",
        "\n",
        "Para referirnos al estado de los archivos en cada una de las etapas decimos lo siguiente: cuando una versión de un archivo está en el área de Directorio de Trabajo está _modificada_, cuando está en el Área de Preparación se le llama _preparada_ y cuando está en el Repositorio (directorio .git) se conoce como _confirmada_. Estos mismos nombres en inglés se conocen como: _Modified_, _Staged_, _Commited_.\n",
        "\n",
        "Con un poco más de detalle podemos decir lo siguiente de cada etapa:\n",
        "> ***Modificada***: Así llamamos a una versión de un archivo que contiene cambios pero que no son parte del repositorio y no se ha añadido al área de preparación. Un buen ejemplo es un cambio que se haya realizado en VisualStudio Code, Atom u otro editor de código o de texto pero no hemos ejecutado ningún comando de git para pensar en agregar los cambios al repositorio.\n",
        ">\n",
        ">***Preparada***: Decimos que la versión de un archivo está preparada cuando aún no se incluye en el repositorio pero fue añadida al área de preparaión.\n",
        ">\n",
        ">***Confirmada***: La versión se conoce como confirmada cuando se encuentra en el directorio de Git.\n",
        "\n",
        "\n",
        "Para conocer el estado de nuestro repositorio podemos usar el siguiente comando\n",
        "* <font color=\"ForestGreen\">***git status***</font>: Con este comando veremos los commits realizados así como aquellas versiones que están próximas a enviarse en commits, si te encuentras con el mensaje _nothing to commit_ sabrás que el área de preparación \"_Staging Area_\" está vacía.\n",
        "\n",
        "> En VisualStudio Code en el panel de exploración de archivos (a la izquierda) puedes ver la carpeta de tu proyecto y si creas un archivo cualquiera aparecerá en color verde con una U en el extremo derecho, esto nos dice que se encuentra en el Working Directory y todavía no entra en la Staging Area para ser enviado como commit al Repository.\n",
        ">\n",
        ">También sucede que al pasar un archivo al Staging Area así como subirlo en forma de commit al Repository le decimos a Git que haga un seguimiento de este archivo dado que es un posible cambio que se va a implementar (o en el caso de haberlo subido, que se implementó), cuando editamos este archivo en VS Code, por ejemplo, y lo guardamos pero aún NO lo hemos subido como commit verás que la A verde cambia por una M de color amarillo, esto indica ***Modified*** y Git reconoce que el archivo ha cambiado más no se ha implementado en el Repository usando el comando ***log*** que te muestro más abajo.\n",
        ">\n",
        ">El mensaje de git status te enseña en qué Branch te encuentras, los commits y los archivos rastreándose (en color verde) y sin rastrear (en color rojo), para añadir ese rastreo a estos últimos, es decir, llevarlos al Staging Area usamos el siguiente comando...\n",
        "\n",
        "* <font color=\"ForestGreen\">***git add NombreDeArchivo.SuExtensión***</font>: Con este comando le indicamos a Git que debe hacer un seguimiento del archivo que deseamos ya que en un futuro podría convertirse en un commit y en parte del Repository, es importante que escribas bien el nombre del archivo, con todo y su extensión, si lo deseas podrías copiar el nombre de la respuesta que obtienes al usar git status para estar seguro, también recuerda que si un archivo tiene espacios en su nombre debes encerrarlo en comillas (\"\") para que funcione el comando de git add, también es necesario si el nombre del archivo incluye el símbolo &.\n",
        "> En VisualStudio Code podrás ver que la U que se observaba a la derecha del nombre del archivo se cambió por una A, es decir, que se está rastreando.\n",
        "\n",
        "Recuerda que esta es un área de preparación y así como las ediciones que hagamos sobre el archivo pueden convertirse en commits y parte del Repository también podemos decidir descartarlas, para descartar un archivo y devolverlo al Working Directory usamos el siguiente comando.\n",
        "\n",
        "* <font color=\"ForestGreen\">***git rm --cached NombreDeArchivo.SuExtensión***</font>: Este comando retira el archivo que deseemos de la Staging Area y git imprime abajo el mensaje: ***rm 'NombreDeArchivo.SuExtensión'***.\n",
        ">En VisualStudio Code podrás observar que la A volvió a convertirse en una U.\n",
        "\n",
        "\n",
        "\n",
        "Aunque podemos pasar una versión de un archivo del Working Directory al Staging Area y viceversa todavía no hemos llevado la versión al Repository en forma de commits, ¿cómo llevar nuestra versión del Staging Area al Repository? Antes entendamos un poco mejor los commits y luego veremos con qué comando de Git empaquetamos nuestra versión para llevarla al Repository.\n",
        "\n",
        "***¿Qué es un commit?***\n",
        "En esencia un commit es un componente básico de la línea del tiempo de un proyecto de Git, es un registro del estado de un proyecto en un momento específico, como te dije es una especie de marca, un hito en la vida del proyecto. Registra los cambios que se realizaron en los archivos en comparación con la versión anterior.\n",
        "\n",
        "Los commits además de ser esos \"paqueticos\" que encierran las modificaciones a una versión de un archivo deben ir acompañados de un mensaje, la idea es que este sea conciso para que tus compañeros desarrolladores comprendan lo que incluye ese conjunto de cambios.\n",
        "\n",
        ">La estructura de un commit incluye los siguientes elementos:\n",
        "> * Identificador Hash: Es un código alfanumérico que identifica a cada commit y es asignado automáticamente por Git, también se le conoce como <font color=\"DarkOrange\"> _SHA_ </font> que es un acrónimo para <font color=\"DarkOrange\"> _Secure Hash Algorithm_ </font>.\n",
        ">Este código Hash por sí solo identifica los cambios, en dónde se realizaron y también quién los realizó.\n",
        "> * Autor: Incluye el nombre de usuario así como su correo para saber quién envió ese commit al Repository.\n",
        "> * Fecha: Sabiendo que es una foto en la línea del tiempo este dato nos dice en qué fecha y hora se introdujo el cambio al Repository.\n",
        "> * Mensaje: Se muestra el mensaje que acompaña al commit y que resume los cambios que se incluyeron al subirlo\\.\n",
        "\n",
        "\n",
        "Para crear un commit haremos usaremos los siguientes comandos:\n",
        "* <font color=\"ForestGreen\">***git commit -m \"MensajeDelCommit\"***</font>: Este es el comando que usaremos en la línea de comando normalmente y es perfecto para pequeños cambios en la versión de un documento, debido a que los cambios suelen ser varios y complejos además de hacerlos en un editor de código lo mejor para crear un commit y añadir un mensaje más extenso es usar el siguiente comando...\n",
        "\n",
        "* <font color=\"ForestGreen\">***git commit***</font>: Sólo con estas dos palabras podremos añadir los cambios a un commit para subirse usando un editor de código como VS Code, al usarlo nos presentará el mensaje _hint: Waiting for your editor to close the file..._, esto aparece porque en VS Code se abrirá un archivo nuevo con el nombre \"_COMMIT_EDITMSG_\" en donde podremos configurar el mensaje asociado al commit así como un texto más largo en el que detallar las actualizaciones que llevan los cambios. Este archivo te puede aparecer en el editor o en la terminal de VS Code\\.\n",
        "\n",
        "    Vamos a guardar ese archivo con _Ctrl+s_ o en la sección _File_ de VS Code y cuando lo cerremos entonces se cargará el commit en nuestra línea de comando y podrás ver el registro con _git log_ <sup>1</sup> \\.\n",
        "\n",
        "    >Dado que los lenguajes de programación en su mayoría se escriben en inglés y que es un idioma muy importante para el desarrollo de software procura que los mensajes de los commits no tengan puntuación y acentos del castellano, a menos que tú y tus colaboradores se entiendan en español esto ayuda a la difusión de la información\\.\n",
        "\n",
        "* <font color=\"ForestGreen\">***git add  .***</font>: Luego del add se pone un espacio y entonces el punto ( .), así se añaden automáticamente todos los cambios al commit para subirse al Repository\n",
        "\n",
        "Para verificar la inserción de un commit en nuestro Repository usaremos el siguiente comando:\n",
        "* <font color=\"ForestGreen\">***git log***</font>: Desplegará el historial de commits que se han realizado al Repository, cuando termines de ver el historial presiona la letra \"q\" en tu teclado y eso te llevará nuevamente a la línea de comando\\.\n",
        "\n",
        "<sup>1</sup> Nota Importante: En caso que tengas problemas para ver este archivo que te menciono en _git commit_ te dejo la siguiente celda de Markdown explicando cómo configurar\n"
      ],
      "metadata": {
        "id": "AkSsknQ5Sz_T"
      }
    },
    {
      "cell_type": "markdown",
      "source": [
        "### Configurar el Editor de Código para los Commit.\n",
        "\n",
        "Para configurar en tu línea de comando un editor de código debes ingresar el siguiente comando de Git, úsalo en la terminal de VS Code para que te aparezca el _COMMIT_EDITMSG_ como otro archivo en la barra superior donde podrás escribir el mensaje, guardarlo y cerrarlo para completar el _commit_.\n",
        "\n",
        "* <font color=\"ForestGreen\">***git config --global core.editor \"code --wait\"***</font>: Este comando hará que la línea de comandos espere mientras escribimos el mensaje del commit, lo guardardamos y lo cerramos en el archivo _COMMIT_EDITMSG_ para tener nuestro commit completo y listo para enviarse al Repository.\n",
        "\n",
        "Si deseas configurar otro editor de código te recomiendo que en Google escribas: \"Asociar editores de texto con Git\", encontrarás un artículo de GitHub Docs que incluso puedes leer en español, inglés, alemán, chino, etc. y donde aprenderás a configurar editores como Atom, SublimeText y otros. Asimismo es importante mencionar que el artículo incluye las guías para sistemas operativos como MacOS y Linux además de Windows."
      ],
      "metadata": {
        "id": "lhxZUA2jS3jq"
      }
    },
    {
      "cell_type": "markdown",
      "source": [
        "### Modificar un Commit\n",
        "\n",
        "Los cambios en los commits se refieren a ediciones sobre los mensajes con los que los enviamos al Repository, no en cuanto al contenido pues para esto está nuestro editor de código donde podemos trabajar en la versión del archivo. Para cambiar estos mensajes usamos el siguiente comando. En este punto cabe hacer una recomendación muy importante, esta edición de los commits se sugiere realizar en los repositorios locales, NO en los remotos debido a que tus colaboradores pueden haber clonado el repositorio y estar trabajando en él de manera local, por esta razón los cambios pueden ser riesgoso para tu proyecto.\n",
        "\n",
        "* <font color=\"ForestGreen\">***git commit --amend***</font>: Con este comando aparecerá nuevamente nuestro conocido archivo _COMMIT_EDITMSG_ en VisualStudio Code donde esperará la modificación del mensaje, que lo guardemos y lo cerremos para realizar el cambio en el commit.\n",
        "\n",
        "No es sencillo editar commits anteriores al último, por esta razón es preciso que si necesitas hacer una edición lo hagas sobre el último commit, para que no te confundas con las distintas versiones que subiste a tu Repository."
      ],
      "metadata": {
        "id": "Fj0CoFw0S6Y1"
      }
    },
    {
      "cell_type": "markdown",
      "source": [
        "### Revertir un commit\n",
        "Es posible revertir un commit si deseas volver a una versión anterior de tu proyecto, esto puede estar motivado por distintas razones, para revertir el último commit sin alterar los archivos usamos el comando que aparece abajo.\n",
        "\n",
        "* <font color=\"ForestGreen\">***git reset --soft HEAD~1***</font>: Este comando nos dice; primero, que vamos a revertir un commit; segundo, que al usar la palabra \"_soft_\" indicamos que no queremos alterar los archivos contenidos en ese commit, cuando vuelvan al Working Directory los encontraremos sin cambios y; tercero la palabra \"_HEAD_\" indica que deseamos revertir el último commit del historial de la Branch principal, llamada _Main_, esta expresión \"~1\" indica que deseamos revertir un solo commit, si cambiamos el 1 revertiremos el número de commits que señales."
      ],
      "metadata": {
        "id": "cB3iIed8S8hk"
      }
    }
  ]
}